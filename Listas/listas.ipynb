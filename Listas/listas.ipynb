{
 "cells": [
  {
   "cell_type": "code",
   "execution_count": 1,
   "metadata": {
    "collapsed": true,
    "ExecuteTime": {
     "end_time": "2023-09-20T00:02:58.791161400Z",
     "start_time": "2023-09-20T00:02:58.775303400Z"
    }
   },
   "outputs": [],
   "source": [
    "lista_numeros = [1, 2, 3, 4, 5]\n"
   ]
  },
  {
   "cell_type": "code",
   "execution_count": 2,
   "outputs": [],
   "source": [
    "lista_cadenas = [\"Hola\", \"mundo!\"]"
   ],
   "metadata": {
    "collapsed": false,
    "ExecuteTime": {
     "end_time": "2023-09-20T00:02:58.801293300Z",
     "start_time": "2023-09-20T00:02:58.788875700Z"
    }
   }
  },
  {
   "cell_type": "code",
   "execution_count": 3,
   "outputs": [],
   "source": [
    "lista_listas = [[1, 2, 3], [4, 5, 6], [7, 8, 9]]\n"
   ],
   "metadata": {
    "collapsed": false,
    "ExecuteTime": {
     "end_time": "2023-09-20T00:02:58.802293Z",
     "start_time": "2023-09-20T00:02:58.801293300Z"
    }
   }
  },
  {
   "cell_type": "code",
   "execution_count": 4,
   "outputs": [
    {
     "name": "stdout",
     "output_type": "stream",
     "text": [
      "[1, 2, 3, 4, 5]\n"
     ]
    }
   ],
   "source": [
    "# agregar elementos a una lista\n",
    "lista_expandible = [1, 2, 3]\n",
    "lista_expandible.append(4)\n",
    "lista_expandible.append(5)\n",
    "print(lista_expandible)\n"
   ],
   "metadata": {
    "collapsed": false,
    "ExecuteTime": {
     "end_time": "2023-09-20T00:02:58.812263400Z",
     "start_time": "2023-09-20T00:02:58.801293300Z"
    }
   }
  },
  {
   "cell_type": "code",
   "execution_count": 5,
   "outputs": [
    {
     "name": "stdout",
     "output_type": "stream",
     "text": [
      "[0, 1, 4, 2, 3]\n"
     ]
    }
   ],
   "source": [
    "# insertar elementos en una lista\n",
    "lista_insercion = [1, 2, 3]\n",
    "lista_insercion.insert(0, 0)\n",
    "lista_insercion.insert(2, 4)\n",
    "print(lista_insercion)\n"
   ],
   "metadata": {
    "collapsed": false,
    "ExecuteTime": {
     "end_time": "2023-09-20T00:02:58.818224100Z",
     "start_time": "2023-09-20T00:02:58.812263400Z"
    }
   }
  },
  {
   "cell_type": "code",
   "execution_count": 8,
   "outputs": [
    {
     "name": "stdout",
     "output_type": "stream",
     "text": [
      "[1, 2, 8, 16, 32, 64, 128, 256, 512]\n"
     ]
    }
   ],
   "source": [
    "# eliminar elementos de una lista\n",
    "lista = [1,2,4,8,16,32,64,128,256,512]\n",
    "lista.remove(4)\n",
    "print(lista)\n"
   ],
   "metadata": {
    "collapsed": false,
    "ExecuteTime": {
     "end_time": "2023-09-20T00:03:47.502489600Z",
     "start_time": "2023-09-20T00:03:47.461139900Z"
    }
   }
  },
  {
   "cell_type": "code",
   "execution_count": 10,
   "outputs": [
    {
     "name": "stdout",
     "output_type": "stream",
     "text": [
      "['Hola', 'mundo!']\n",
      "Hola\n"
     ]
    }
   ],
   "source": [
    "hola_mundo = \"Hola mundo!\".split()\n",
    "print(hola_mundo)\n",
    "print(hola_mundo[0])\n"
   ],
   "metadata": {
    "collapsed": false,
    "ExecuteTime": {
     "end_time": "2023-09-20T00:04:49.833515700Z",
     "start_time": "2023-09-20T00:04:49.820751500Z"
    }
   }
  },
  {
   "cell_type": "code",
   "execution_count": 11,
   "outputs": [
    {
     "name": "stdout",
     "output_type": "stream",
     "text": [
      "2\n",
      "4\n",
      "6\n",
      "8\n",
      "10\n",
      "12\n"
     ]
    }
   ],
   "source": [
    "lista = [1, 2, 3, 4, 5, 6]\n",
    "for elemento in lista:\n",
    "    print(2*elemento)\n"
   ],
   "metadata": {
    "collapsed": false,
    "ExecuteTime": {
     "end_time": "2023-09-20T00:05:22.168011600Z",
     "start_time": "2023-09-20T00:05:22.162474800Z"
    }
   }
  }
 ],
 "metadata": {
  "kernelspec": {
   "display_name": "Python 3",
   "language": "python",
   "name": "python3"
  },
  "language_info": {
   "codemirror_mode": {
    "name": "ipython",
    "version": 2
   },
   "file_extension": ".py",
   "mimetype": "text/x-python",
   "name": "python",
   "nbconvert_exporter": "python",
   "pygments_lexer": "ipython2",
   "version": "2.7.6"
  }
 },
 "nbformat": 4,
 "nbformat_minor": 0
}
